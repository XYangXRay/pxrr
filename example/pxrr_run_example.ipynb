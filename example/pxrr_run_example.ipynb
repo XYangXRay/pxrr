{
 "cells": [
  {
   "cell_type": "code",
   "execution_count": null,
   "id": "0",
   "metadata": {},
   "outputs": [],
   "source": [
    "# NEED TO HAVE DATA FILES DOWNLOADED AND UPDATE PATHS\n",
    "import math\n",
    "import numpy as np\n",
    "from numpy import trapz\n",
    "import pandas as pd\n",
    "import matplotlib.pyplot as plt\n",
    "from pseudo_xrr.gixos import *\n",
    "from pseudo_xrr.data_io import *\n",
    "#from pseudo_xrr.slit import Rectungular_slit\n",
    "from pseudo_xrr.Dependency import *"
   ]
  },
  {
   "cell_type": "code",
   "execution_count": null,
   "id": "1",
   "metadata": {},
   "outputs": [],
   "source": [
    "dependency_wrapper('./testing_data/gixos_metadata.yaml')"
   ]
  },
  {
   "cell_type": "code",
   "execution_count": null,
   "id": "2",
   "metadata": {},
   "outputs": [],
   "source": [
    "importGIXOSdata, importbkg = load_data('./testing_data/gixos_metadata.yaml')\n",
    "metadata = load_metadata('./testing_data/gixos_metadata.yaml')\n",
    "importGIXOSdata, importbkg = binning_GIXOS_data(importGIXOSdata, importbkg)\n",
    "rectangular_slit() "
   ]
  }
 ],
 "metadata": {
  "kernelspec": {
   "display_name": "pxrr",
   "language": "python",
   "name": "python3"
  },
  "language_info": {
   "codemirror_mode": {
    "name": "ipython",
    "version": 3
   },
   "file_extension": ".py",
   "mimetype": "text/x-python",
   "name": "python",
   "nbconvert_exporter": "python",
   "pygments_lexer": "ipython3",
   "version": "3.10.18"
  }
 },
 "nbformat": 4,
 "nbformat_minor": 5
}
